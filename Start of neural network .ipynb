{
 "cells": [
  {
   "cell_type": "code",
   "execution_count": 1,
   "id": "e9a3eb21",
   "metadata": {},
   "outputs": [],
   "source": [
    "\n",
    "import numpy as np\n",
    "import _pickle as Pickle\n",
    "import gzip\n",
    "import os.path\n",
    "import random\n",
    "import matplotlib.pyplot as plt\n"
   ]
  },
  {
   "cell_type": "code",
   "execution_count": 2,
   "id": "29cba024",
   "metadata": {},
   "outputs": [
    {
     "name": "stdout",
     "output_type": "stream",
     "text": [
      "Requirement already satisfied: numba in c:\\users\\henrik\\anaconda3\\lib\\site-packages (0.54.1)\n",
      "Requirement already satisfied: numpy<1.21,>=1.17 in c:\\users\\henrik\\anaconda3\\lib\\site-packages (from numba) (1.20.3)\n",
      "Requirement already satisfied: llvmlite<0.38,>=0.37.0rc1 in c:\\users\\henrik\\anaconda3\\lib\\site-packages (from numba) (0.37.0)\n",
      "Requirement already satisfied: setuptools in c:\\users\\henrik\\anaconda3\\lib\\site-packages (from numba) (58.0.4)\n",
      "Note: you may need to restart the kernel to use updated packages.\n",
      "Requirement already satisfied: numba-scipy in c:\\users\\henrik\\anaconda3\\lib\\site-packages (0.3.0)\n",
      "Requirement already satisfied: numba>=0.45 in c:\\users\\henrik\\anaconda3\\lib\\site-packages (from numba-scipy) (0.54.1)\n",
      "Requirement already satisfied: scipy<=1.6.2,>=0.16 in c:\\users\\henrik\\anaconda3\\lib\\site-packages (from numba-scipy) (1.6.2)\n",
      "Requirement already satisfied: llvmlite<0.38,>=0.37.0rc1 in c:\\users\\henrik\\anaconda3\\lib\\site-packages (from numba>=0.45->numba-scipy) (0.37.0)\n",
      "Requirement already satisfied: setuptools in c:\\users\\henrik\\anaconda3\\lib\\site-packages (from numba>=0.45->numba-scipy) (58.0.4)\n",
      "Requirement already satisfied: numpy<1.21,>=1.17 in c:\\users\\henrik\\anaconda3\\lib\\site-packages (from numba>=0.45->numba-scipy) (1.20.3)\n",
      "Note: you may need to restart the kernel to use updated packages.\n"
     ]
    }
   ],
   "source": [
    "%pip install numba\n",
    "%pip install numba-scipy\n",
    "from numba import jit, uint64"
   ]
  },
  {
   "cell_type": "code",
   "execution_count": 3,
   "id": "d6824abf",
   "metadata": {},
   "outputs": [],
   "source": [
    "\n",
    "#First try at creating a neural nett, used code from https://github.com/MichalDanielDobrzanski/DeepLearningPython but have\n",
    "# reached a dead end at the moment, someting wrong with the dot product i'm doing. Gonna pick up another time. \n",
    "\n",
    "\n",
    "f = gzip.open(\"mnist_expanded.pkl.gz\", 'rb')\n",
    "    \n",
    "imported = Pickle.Unpickler(file=f, encoding='latin1')\n",
    "training_data, validation_data, test_data = imported.load()\n",
    "    \n",
    "f.close()"
   ]
  },
  {
   "cell_type": "code",
   "execution_count": 4,
   "id": "d20add51",
   "metadata": {},
   "outputs": [],
   "source": [
    "\n",
    "\n",
    "class Network(object):\n",
    " \n",
    "    def __init__(self, sizes, weights = None, biases = None):\n",
    "        self.sizes = sizes \n",
    "        self.biases =  [np.random.randn(y, 1) for y in sizes[1:]] #creates an array of weights randomized from the standard normal function\n",
    "        self.weights = [np.random.randn(y, x) for y,x in zip(sizes[:-1], sizes[1:])] #same but takes in the number of neurons in one layer and creates weights connection to each neuron in the next\n",
    "        \n",
    "        if weights:\n",
    "            self.weights = weights \n",
    "        else:\n",
    "            print(\"hi\")\n",
    "        if biases: \n",
    "            self.biases = biases \n",
    "        else:\n",
    "            print(\"hi\")\n",
    "            \n",
    "    def feedforward(self, a): #takes in a which is a list of inputs from any layer in the neural nett. \n",
    "        for b, w in zip(self.biases, self.weights): #zips an tuple consisting of the bias and weigths for a neuron and then \n",
    "            n_a = np.zeros(len(w[1]))\n",
    "            \n",
    "            for k in range(len(b)):\n",
    "                n_a[k] += b[k]\n",
    "            print(len(w))\n",
    "            for i in range(len(w)):\n",
    "                j=0\n",
    "                for items in w[i]:\n",
    "                    \n",
    "                    \n",
    "                    n_a[j]= n_a[j] + items*a[i]\n",
    "                    j+=1\n",
    "            \n",
    "                \n",
    "            a = n_a\n",
    "            a = sigmoid(a)\n",
    "          \n",
    "          \n",
    "            \n",
    "            #and then applies the sigmoid function, could perhaps use a different function here. \n",
    "            #print(np.shape(a))\n",
    "        return a   \n",
    "    \n",
    "\n",
    "    def SGD(self, training_data, epochs, mini_batch_size , eta, test_data = None):\n",
    "        training_data = list(training_data)\n",
    "        n = len(training_data) #creates opreable data\n",
    "        \n",
    "        if test_data:\n",
    "            test_data = list(test_data)\n",
    "            n_test = len(test_data) \n",
    "        \n",
    "        for j in range(epochs ):\n",
    "            random.shuffle(training_data) \n",
    "            mini_batches = [\n",
    "            training_data[k:k+mini_batch_size] # divides the training data into smaller portions\n",
    "            for k in range(0, n, mini_batch_size)]\n",
    "            for mini_batch in mini_batches:\n",
    "                print(mini_batch)\n",
    "                self.update_mini_batch(mini_batch, eta)\n",
    "            if test_data:\n",
    "                print(\"Epoch {} : {} / {}\", format(j,self.evaluate(test_data),n_test))\n",
    "            else:\n",
    "                print(\"Epoch {} complete\", (j))\n",
    "                \n",
    "   \n",
    "    def update_mini_batch(self, mini_batch, eta):\n",
    "        nabla_b = [np.zeros(b.shape) for b in self.biases]\n",
    "        nabla_w = [np.zeros(w.shape) for w in self.weights]\n",
    "    \n",
    "        for x, y in mini_batch:\n",
    "            delta_nabla_b, delta_nabla_w = self.backprop(x, y)\n",
    "            nabla_b = [nb+dnb for nb, dnb in zip(nabla_b, delta_nabla_b)]\n",
    "            nabla_w = [nw+dnw for nw, dnw in zip(nabla_w, delta_nabla_w)]\n",
    "        self.weights = [w-(eta/len(mini_batch))*nw\n",
    "                        for w, nw in zip(self.weights, nabla_w)]\n",
    "        self.biases = [b-(eta/len(mini_batch))*nb\n",
    "                       for b, nb in zip(self.biases, nabla_b)]\n",
    "        \n",
    "       \n",
    "    def backprop(self, x, y):\n",
    "        \"\"\"Return a tuple ``(nabla_b, nabla_w)`` representing the\n",
    "        gradient for the cost function C_x.  ``nabla_b`` and\n",
    "        ``nabla_w`` are layer-by-layer lists of numpy arrays, similar\n",
    "        to ``self.biases`` and ``self.weights``.\"\"\"\n",
    "        nabla_b = [np.zeros(b.shape) for b in self.biases]\n",
    "        nabla_w = [np.zeros(w.shape) for w in self.weights]\n",
    "        # feedforward\n",
    "        activation = x\n",
    "        activations = [x] # list to store all the activations, layer by layer\n",
    "        zs = [] # list to store all the z vectors, layer by layer\n",
    "        for b, w in zip(self.biases, self.weights):\n",
    "            z = np.dot(w, activation)+b\n",
    "            zs.append(z)\n",
    "            activation = sigmoid(z)\n",
    "            activations.append(activation)\n",
    "        # backward pass\n",
    "        delta = self.cost_derivative(activations[-1], y) * \\\n",
    "            sigmoid_prime(zs[-1])\n",
    "        nabla_b[-1] = delta\n",
    "        nabla_w[-1] = np.dot(delta, activations[-2].transpose())\n",
    "        # Note that the variable l in the loop below is used a little\n",
    "        # differently to the notation in Chapter 2 of the book.  Here,\n",
    "        # l = 1 means the last layer of neurons, l = 2 is the\n",
    "        # second-last layer, and so on.  It's a renumbering of the\n",
    "        # scheme in the book, used here to take advantage of the fact\n",
    "        # that Python can use negative indices in lists.\n",
    "        for l in range(2, self.num_layers):\n",
    "            z = zs[-l]\n",
    "            sp = sigmoid_prime(z)\n",
    "            delta = np.dot(self.weights[-l+1].transpose(), delta) * sp\n",
    "            nabla_b[-l] = delta\n",
    "            nabla_w[-l] = np.dot(delta, activations[-l-1].transpose())\n",
    "        return (nabla_b, nabla_w)\n",
    "\n",
    "  \n",
    "    def evaluate(self, test_data):\n",
    "        \"\"\"Return the number of test inputs for which the neural\n",
    "        network outputs the correct result. Note that the neural\n",
    "        network's output is assumed to be the index of whichever\n",
    "        neuron in the final layer has the highest activation.\"\"\"\n",
    "        test_results = [(np.argmax(self.feedforward(x)), y)\n",
    "                        for (x, y) in test_data]\n",
    "        return sum(int(x == y) for (x, y) in test_results)\n",
    "    \n",
    "  \n",
    "    def evaluate_one(self, test_data):\n",
    "        \"\"\"Return the number of test inputs for which the neural\n",
    "        network outputs the correct result. Note that the neural\n",
    "        network's output is assumed to be the index of whichever\n",
    "        neuron in the final layer has the highest activation.\"\"\"\n",
    "        \n",
    "        \n",
    "        test_results = self.feedforward(test_data)\n",
    "        return test_results\n",
    "    \n",
    "    \n",
    "    def cost_derivative(self, output_activations, y):\n",
    "        \"\"\"Return the vector of partial derivatives \\partial C_x /\n",
    "        \\partial a for the output activations.\"\"\"\n",
    "        return (output_activations-y)\n",
    "    \n",
    "#### Miscellaneous functions\n",
    "def sigmoid(z):\n",
    "    \"\"\"The sigmoid function.\"\"\"\n",
    "    return 1.0/(1.0+np.exp(-z))\n",
    "\n",
    "def sigmoid_prime(z):\n",
    "    \"\"\"Derivative of the sigmoid function.\"\"\"\n",
    "    return sigmoid(z)*(1-sigmoid(z))\n",
    "        \n",
    "    \n"
   ]
  },
  {
   "cell_type": "code",
   "execution_count": 5,
   "id": "d9db8fda",
   "metadata": {},
   "outputs": [
    {
     "name": "stdout",
     "output_type": "stream",
     "text": [
      "hi\n",
      "hi\n"
     ]
    }
   ],
   "source": [
    "net = Network([784, 30, 10])\n",
    "#net.SGD(training_data, 10, 30, 3.0)"
   ]
  },
  {
   "cell_type": "code",
   "execution_count": 6,
   "id": "95e89a91",
   "metadata": {},
   "outputs": [],
   "source": [
    "result_b = list(training_data)"
   ]
  },
  {
   "cell_type": "code",
   "execution_count": 12,
   "id": "44ef18a1",
   "metadata": {
    "scrolled": false
   },
   "outputs": [
    {
     "data": {
      "image/png": "[encoded data removed]",
      "text/plain": [
       "<Figure size 432x288 with 2 Axes>"
      ]
     },
     "metadata": {
      "needs_background": "light"
     },
     "output_type": "display_data"
    },
    {
     "name": "stdout",
     "output_type": "stream",
     "text": [
      "the soulution is 4\n",
      "2\n"
     ]
    }
   ],
   "source": [
    "a =int(random.random()*10000)\n",
    "\n",
    "test_image = training_data[0]\n",
    "test_image_answer = training_data[1] \n",
    "test_image_answer = test_image_answer[a]\n",
    "test_image = test_image[a]\n",
    "\n",
    "\n",
    "data = np.zeros((28,28))\n",
    "i = 0\n",
    "for x in range(28):\n",
    "    for y in range(28):\n",
    "        data[x,y]=test_image[i]\n",
    "        i+=1\n",
    "        \n",
    "        \n",
    "plt.figure()\n",
    "\n",
    "plt.title(\"pixel_plot\")\n",
    "plt.imshow(data, cmap='Greys', interpolation='nearest') \n",
    "plt.colorbar()\n",
    "plt.savefig('pixel_plot.png')\n",
    "plt.show()\n",
    "print(\"the soulution is\", test_image_answer)\n",
    "\n",
    "\n",
    "print(len(result_b))\n",
    "\n",
    "#result  = net.evaluate(result_b) \n",
    "\n",
    "\n",
    "\n"
   ]
  },
  {
   "cell_type": "code",
   "execution_count": 14,
   "id": "0151bdcf",
   "metadata": {},
   "outputs": [],
   "source": [
    "weights = net.weights \n",
    "biases = net.biases \n"
   ]
  },
  {
   "cell_type": "code",
   "execution_count": 15,
   "id": "1a02e7e4",
   "metadata": {},
   "outputs": [
    {
     "name": "stdout",
     "output_type": "stream",
     "text": [
      "30\n",
      "30\n"
     ]
    }
   ],
   "source": [
    "print(len(weights[1]))\n",
    "print(len(biases[0]))"
   ]
  },
  {
   "cell_type": "code",
   "execution_count": null,
   "id": "7fb0b2a9",
   "metadata": {},
   "outputs": [],
   "source": [
    "sizes = [2,2,2,2]\n",
    "a = [np.random.randn(y, x) for y,x in zip(sizes[:-1], sizes[1:])]\n",
    "b = [np.random.randn(y, 1) for y in sizes[1:]]\n",
    "#print(a)\n",
    "c =list(zip(b,a))\n",
    "print(c[0])test_data1 = test_data[random]"
   ]
  }
 ],
 "metadata": {
  "kernelspec": {
   "display_name": "Python 3 (ipykernel)",
   "language": "python",
   "name": "python3"
  },
  "language_info": {
   "codemirror_mode": {
    "name": "ipython",
    "version": 3
   },
   "file_extension": ".py",
   "mimetype": "text/x-python",
   "name": "python",
   "nbconvert_exporter": "python",
   "pygments_lexer": "ipython3",
   "version": "3.9.7"
  }
 },
 "nbformat": 4,
 "nbformat_minor": 5
}
